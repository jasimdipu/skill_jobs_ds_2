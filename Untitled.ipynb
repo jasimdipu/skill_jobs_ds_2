{
 "cells": [
  {
   "cell_type": "markdown",
   "id": "aed80eb8",
   "metadata": {},
   "source": [
    "Welcome to first class of data science"
   ]
  },
  {
   "cell_type": "code",
   "execution_count": 2,
   "id": "ffb45682",
   "metadata": {},
   "outputs": [
    {
     "name": "stdout",
     "output_type": "stream",
     "text": [
      "hello data scientist\n"
     ]
    }
   ],
   "source": [
    "print(\"hello data scientist\")"
   ]
  },
  {
   "cell_type": "code",
   "execution_count": null,
   "id": "c2856f87",
   "metadata": {},
   "outputs": [],
   "source": []
  }
 ],
 "metadata": {
  "kernelspec": {
   "display_name": "Python 3",
   "language": "python",
   "name": "python3"
  },
  "language_info": {
   "codemirror_mode": {
    "name": "ipython",
    "version": 3
   },
   "file_extension": ".py",
   "mimetype": "text/x-python",
   "name": "python",
   "nbconvert_exporter": "python",
   "pygments_lexer": "ipython3",
   "version": "3.8.8"
  }
 },
 "nbformat": 4,
 "nbformat_minor": 5
}
