{
 "cells": [
  {
   "cell_type": "markdown",
   "id": "cf588c5f",
   "metadata": {},
   "source": [
    "# feature eng -> Feature Selection, construction, transformation, extraction "
   ]
  },
  {
   "cell_type": "code",
   "execution_count": 2,
   "id": "18a7b8f8",
   "metadata": {},
   "outputs": [],
   "source": [
    "# What, why, and how"
   ]
  },
  {
   "cell_type": "markdown",
   "id": "6fa36fac",
   "metadata": {},
   "source": [
    "# How"
   ]
  },
  {
   "cell_type": "markdown",
   "id": "ffb9749f",
   "metadata": {},
   "source": [
    "##### 1. Imputation(missing values -> ) 2. One hot encoding 3. Grouping operation 4. bag of words 5. Feature Hasing"
   ]
  },
  {
   "cell_type": "markdown",
   "id": "5e5c68e9",
   "metadata": {},
   "source": [
    "### Steps of data cleaning\n",
    "1. Missing data -> null values, 0, \"0\", empty string, not applicable, Na, none, inf(email)\n",
    "2. Outliers\n",
    "3. Contaminated data\n",
    "4. Inconsistent data\n",
    "5. invalid data\n",
    "6. Duplicate data\n",
    "7. Data type issues\n",
    "8. Structural errors"
   ]
  },
  {
   "cell_type": "code",
   "execution_count": null,
   "id": "9af4e4b4",
   "metadata": {},
   "outputs": [],
   "source": [
    "\"Apple\", \"apple\", \"APPLE\", \"aPple\", 22 feb 2022"
   ]
  }
 ],
 "metadata": {
  "kernelspec": {
   "display_name": "Python 3",
   "language": "python",
   "name": "python3"
  },
  "language_info": {
   "codemirror_mode": {
    "name": "ipython",
    "version": 3
   },
   "file_extension": ".py",
   "mimetype": "text/x-python",
   "name": "python",
   "nbconvert_exporter": "python",
   "pygments_lexer": "ipython3",
   "version": "3.8.8"
  }
 },
 "nbformat": 4,
 "nbformat_minor": 5
}
