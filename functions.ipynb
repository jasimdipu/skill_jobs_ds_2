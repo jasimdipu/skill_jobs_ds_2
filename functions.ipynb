{
 "cells": [
  {
   "cell_type": "code",
   "execution_count": 1,
   "id": "ddb4f0f9",
   "metadata": {},
   "outputs": [],
   "source": [
    "def func():\n",
    "    print(\"This is a function\")"
   ]
  },
  {
   "cell_type": "code",
   "execution_count": 2,
   "id": "56f78828",
   "metadata": {},
   "outputs": [
    {
     "name": "stdout",
     "output_type": "stream",
     "text": [
      "This is a function\n"
     ]
    }
   ],
   "source": [
    "func()"
   ]
  },
  {
   "cell_type": "code",
   "execution_count": 9,
   "id": "cea363df",
   "metadata": {},
   "outputs": [],
   "source": [
    "def add_number():\n",
    "    a = 100\n",
    "    b = 200\n",
    "    print(a+b)"
   ]
  },
  {
   "cell_type": "code",
   "execution_count": 10,
   "id": "7320509a",
   "metadata": {},
   "outputs": [
    {
     "name": "stdout",
     "output_type": "stream",
     "text": [
      "300\n"
     ]
    }
   ],
   "source": [
    "add_number()"
   ]
  },
  {
   "cell_type": "code",
   "execution_count": 11,
   "id": "4c8e329e",
   "metadata": {},
   "outputs": [
    {
     "name": "stdout",
     "output_type": "stream",
     "text": [
      "300\n"
     ]
    }
   ],
   "source": [
    "add_number()"
   ]
  },
  {
   "cell_type": "code",
   "execution_count": 17,
   "id": "4d0794a8",
   "metadata": {},
   "outputs": [],
   "source": [
    "def add_number_two(a, b):\n",
    "    print(a+b)"
   ]
  },
  {
   "cell_type": "code",
   "execution_count": 13,
   "id": "829acffa",
   "metadata": {},
   "outputs": [
    {
     "name": "stdout",
     "output_type": "stream",
     "text": [
      "300\n"
     ]
    }
   ],
   "source": [
    "add_number(100, 200)"
   ]
  },
  {
   "cell_type": "code",
   "execution_count": 14,
   "id": "9c4a9602",
   "metadata": {},
   "outputs": [
    {
     "name": "stdout",
     "output_type": "stream",
     "text": [
      "500\n"
     ]
    }
   ],
   "source": [
    "add_number(300, 200)"
   ]
  },
  {
   "cell_type": "code",
   "execution_count": 15,
   "id": "6fd1275a",
   "metadata": {},
   "outputs": [],
   "source": [
    "def add_number(a, b):\n",
    "    return a+b"
   ]
  },
  {
   "cell_type": "code",
   "execution_count": 16,
   "id": "fb1da60d",
   "metadata": {},
   "outputs": [
    {
     "data": {
      "text/plain": [
       "500"
      ]
     },
     "execution_count": 16,
     "metadata": {},
     "output_type": "execute_result"
    }
   ],
   "source": [
    "add_number(300, 200)"
   ]
  },
  {
   "cell_type": "code",
   "execution_count": 18,
   "id": "f95c4836",
   "metadata": {},
   "outputs": [
    {
     "name": "stdout",
     "output_type": "stream",
     "text": [
      "600\n"
     ]
    }
   ],
   "source": [
    "ant = add_number_two(200,400)"
   ]
  },
  {
   "cell_type": "code",
   "execution_count": 19,
   "id": "a1545434",
   "metadata": {},
   "outputs": [],
   "source": [
    "ant"
   ]
  },
  {
   "cell_type": "code",
   "execution_count": 20,
   "id": "eeb35759",
   "metadata": {},
   "outputs": [],
   "source": [
    "an  = add_number(500, 200)"
   ]
  },
  {
   "cell_type": "code",
   "execution_count": 21,
   "id": "f7dd1a72",
   "metadata": {},
   "outputs": [
    {
     "data": {
      "text/plain": [
       "700"
      ]
     },
     "execution_count": 21,
     "metadata": {},
     "output_type": "execute_result"
    }
   ],
   "source": [
    "an"
   ]
  },
  {
   "cell_type": "code",
   "execution_count": 25,
   "id": "a80009e5",
   "metadata": {},
   "outputs": [],
   "source": [
    "# nested function\n",
    "def func_one(a, b):\n",
    "    def func_two(a, b):\n",
    "        return a+b\n",
    "    return func_two()"
   ]
  },
  {
   "cell_type": "code",
   "execution_count": 26,
   "id": "ea50ebf7",
   "metadata": {},
   "outputs": [
    {
     "data": {
      "text/plain": [
       "100"
      ]
     },
     "execution_count": 26,
     "metadata": {},
     "output_type": "execute_result"
    }
   ],
   "source": [
    "func_one()"
   ]
  },
  {
   "cell_type": "code",
   "execution_count": 31,
   "id": "1b989dcb",
   "metadata": {},
   "outputs": [],
   "source": [
    "def nes_func_one(number1, number2, number3):\n",
    "    \n",
    "    def nes_func_two(number2, number3):\n",
    "        \n",
    "        return number2+number3\n",
    "    \n",
    "    number = nes_func_two(number2, number3)/number1\n",
    "    \n",
    "    return number"
   ]
  },
  {
   "cell_type": "code",
   "execution_count": 33,
   "id": "9d6d07a0",
   "metadata": {},
   "outputs": [
    {
     "data": {
      "text/plain": [
       "4.0"
      ]
     },
     "execution_count": 33,
     "metadata": {},
     "output_type": "execute_result"
    }
   ],
   "source": [
    "nes_func_one(100, 200, 200)"
   ]
  },
  {
   "cell_type": "code",
   "execution_count": 2,
   "id": "16b16bcd",
   "metadata": {},
   "outputs": [],
   "source": [
    "# recursion function\n",
    "def print_again():\n",
    "    print(\"Recursion Function\")\n",
    "    return print_again()"
   ]
  },
  {
   "cell_type": "code",
   "execution_count": null,
   "id": "40195c9c",
   "metadata": {
    "scrolled": false
   },
   "outputs": [],
   "source": [
    "# recursion function factorial\n"
   ]
  },
  {
   "cell_type": "code",
   "execution_count": 8,
   "id": "6730107d",
   "metadata": {},
   "outputs": [
    {
     "name": "stdout",
     "output_type": "stream",
     "text": [
      "120\n"
     ]
    }
   ],
   "source": [
    "n = 5\n",
    "fact = 1\n",
    "\n",
    "for i in range(1, n+1):\n",
    "    fact*=i\n",
    "print(fact)"
   ]
  },
  {
   "cell_type": "code",
   "execution_count": 19,
   "id": "8fc1a25f",
   "metadata": {},
   "outputs": [],
   "source": [
    "def factorial(n):\n",
    "    if n==0:\n",
    "        return 0\n",
    "    elif n==1:\n",
    "        return 1\n",
    "    else:\n",
    "        return n*factorial(n-1) # 5*4 = 20, 20*3 = 60, 60*2=120, 120*1=120"
   ]
  },
  {
   "cell_type": "code",
   "execution_count": 20,
   "id": "16144adc",
   "metadata": {},
   "outputs": [
    {
     "data": {
      "text/plain": [
       "120"
      ]
     },
     "execution_count": 20,
     "metadata": {},
     "output_type": "execute_result"
    }
   ],
   "source": [
    "factorial(5)"
   ]
  },
  {
   "cell_type": "code",
   "execution_count": 23,
   "id": "a8d0345f",
   "metadata": {},
   "outputs": [],
   "source": [
    "# lambda function \n",
    "number = lambda a: a+10"
   ]
  },
  {
   "cell_type": "code",
   "execution_count": 24,
   "id": "bcfe3d88",
   "metadata": {},
   "outputs": [
    {
     "data": {
      "text/plain": [
       "20"
      ]
     },
     "execution_count": 24,
     "metadata": {},
     "output_type": "execute_result"
    }
   ],
   "source": [
    "number(10)"
   ]
  },
  {
   "cell_type": "code",
   "execution_count": 25,
   "id": "4df43f43",
   "metadata": {},
   "outputs": [],
   "source": [
    "summation = lambda a, b: a+b"
   ]
  },
  {
   "cell_type": "code",
   "execution_count": 26,
   "id": "e27dafc9",
   "metadata": {},
   "outputs": [
    {
     "data": {
      "text/plain": [
       "300"
      ]
     },
     "execution_count": 26,
     "metadata": {},
     "output_type": "execute_result"
    }
   ],
   "source": [
    "summation(100, 200)"
   ]
  },
  {
   "cell_type": "code",
   "execution_count": 27,
   "id": "777e1181",
   "metadata": {},
   "outputs": [],
   "source": [
    "addition = lambda a, b: a+b if a==100 else a*b"
   ]
  },
  {
   "cell_type": "code",
   "execution_count": 29,
   "id": "d4cab0bf",
   "metadata": {},
   "outputs": [
    {
     "data": {
      "text/plain": [
       "80000"
      ]
     },
     "execution_count": 29,
     "metadata": {},
     "output_type": "execute_result"
    }
   ],
   "source": [
    "addition(400, 200)"
   ]
  },
  {
   "cell_type": "code",
   "execution_count": 30,
   "id": "6229473a",
   "metadata": {},
   "outputs": [
    {
     "data": {
      "text/plain": [
       "range(0, 10)"
      ]
     },
     "execution_count": 30,
     "metadata": {},
     "output_type": "execute_result"
    }
   ],
   "source": [
    "# iterator function\n",
    "range(10)"
   ]
  },
  {
   "cell_type": "code",
   "execution_count": 31,
   "id": "3ab57aa7",
   "metadata": {},
   "outputs": [
    {
     "data": {
      "text/plain": [
       "[0, 1, 2, 3, 4, 5, 6, 7, 8, 9]"
      ]
     },
     "execution_count": 31,
     "metadata": {},
     "output_type": "execute_result"
    }
   ],
   "source": [
    "list(range(0, 10))"
   ]
  },
  {
   "cell_type": "code",
   "execution_count": 36,
   "id": "cdc0be13",
   "metadata": {},
   "outputs": [],
   "source": [
    "# generator function\n",
    "def my_range(n):\n",
    "    for i in range(n):\n",
    "        yield i"
   ]
  },
  {
   "cell_type": "code",
   "execution_count": 37,
   "id": "f968b839",
   "metadata": {},
   "outputs": [
    {
     "name": "stdout",
     "output_type": "stream",
     "text": [
      "0\n",
      "1\n",
      "2\n",
      "3\n",
      "4\n",
      "5\n",
      "6\n",
      "7\n",
      "8\n",
      "9\n"
     ]
    }
   ],
   "source": [
    "for i in my_range(10):\n",
    "    print(i)"
   ]
  },
  {
   "cell_type": "markdown",
   "id": "b5120d9c",
   "metadata": {},
   "source": [
    "### map, reduce, filter"
   ]
  },
  {
   "cell_type": "code",
   "execution_count": 44,
   "id": "1c49f56b",
   "metadata": {},
   "outputs": [],
   "source": [
    "num = lambda a: a+a"
   ]
  },
  {
   "cell_type": "code",
   "execution_count": 45,
   "id": "2cd9c5bd",
   "metadata": {},
   "outputs": [],
   "source": [
    "nums = [1, 2, 3, 4, 5, 6, 7, 8, 9]"
   ]
  },
  {
   "cell_type": "code",
   "execution_count": 46,
   "id": "5a5d9789",
   "metadata": {},
   "outputs": [
    {
     "data": {
      "text/plain": [
       "[2, 4, 6, 8, 10, 12, 14, 16, 18]"
      ]
     },
     "execution_count": 46,
     "metadata": {},
     "output_type": "execute_result"
    }
   ],
   "source": [
    "result = list(map(num, nums))\n",
    "result"
   ]
  },
  {
   "cell_type": "code",
   "execution_count": 51,
   "id": "1cf5d956",
   "metadata": {},
   "outputs": [],
   "source": [
    "def adds(num):\n",
    "    for i in num:\n",
    "        yield i+i"
   ]
  },
  {
   "cell_type": "code",
   "execution_count": 53,
   "id": "a4969f75",
   "metadata": {},
   "outputs": [
    {
     "data": {
      "text/plain": [
       "[2, 4, 6, 8, 10, 12, 14, 16, 18]"
      ]
     },
     "execution_count": 53,
     "metadata": {},
     "output_type": "execute_result"
    }
   ],
   "source": [
    "list(adds(nums))"
   ]
  },
  {
   "cell_type": "code",
   "execution_count": 54,
   "id": "56818301",
   "metadata": {},
   "outputs": [],
   "source": [
    "def check_even_odd(number):\n",
    "    if number % 2 == 0:\n",
    "        return True\n",
    "    else:\n",
    "        return False"
   ]
  },
  {
   "cell_type": "code",
   "execution_count": 55,
   "id": "fd369830",
   "metadata": {},
   "outputs": [],
   "source": [
    "even_number = list(filter(check_even_odd, nums))"
   ]
  },
  {
   "cell_type": "code",
   "execution_count": 56,
   "id": "02f13c3c",
   "metadata": {},
   "outputs": [
    {
     "data": {
      "text/plain": [
       "[2, 4, 6, 8]"
      ]
     },
     "execution_count": 56,
     "metadata": {},
     "output_type": "execute_result"
    }
   ],
   "source": [
    "even_number"
   ]
  },
  {
   "cell_type": "code",
   "execution_count": 58,
   "id": "d102e56c",
   "metadata": {},
   "outputs": [
    {
     "data": {
      "text/plain": [
       "[1, 2, 3, 4, 5, 6, 7, 8, 9]"
      ]
     },
     "execution_count": 58,
     "metadata": {},
     "output_type": "execute_result"
    }
   ],
   "source": [
    "nums"
   ]
  },
  {
   "cell_type": "code",
   "execution_count": 57,
   "id": "dae435c8",
   "metadata": {},
   "outputs": [
    {
     "name": "stdout",
     "output_type": "stream",
     "text": [
      "45\n"
     ]
    }
   ],
   "source": [
    "# x1+x2+x3+...+xn\n",
    "# reduce \n",
    "from functools import reduce\n",
    "print(reduce(lambda a, b: a+b, nums))"
   ]
  },
  {
   "cell_type": "code",
   "execution_count": 61,
   "id": "335de856",
   "metadata": {},
   "outputs": [
    {
     "name": "stdout",
     "output_type": "stream",
     "text": [
      "2\n"
     ]
    }
   ],
   "source": [
    "print(reduce(lambda a, b: a if a%2==0 else b, nums))"
   ]
  },
  {
   "cell_type": "code",
   "execution_count": 62,
   "id": "6b45fc0c",
   "metadata": {},
   "outputs": [
    {
     "name": "stdout",
     "output_type": "stream",
     "text": [
      "9\n"
     ]
    }
   ],
   "source": [
    "print(reduce(lambda a, b: a if a>b else b, nums))"
   ]
  },
  {
   "cell_type": "code",
   "execution_count": 63,
   "id": "f64bbd09",
   "metadata": {},
   "outputs": [
    {
     "name": "stdout",
     "output_type": "stream",
     "text": [
      "1\n"
     ]
    }
   ],
   "source": [
    "print(reduce(lambda a, b: a if a<b else b, nums))"
   ]
  },
  {
   "cell_type": "code",
   "execution_count": 65,
   "id": "0e3b96cc",
   "metadata": {},
   "outputs": [
    {
     "name": "stdout",
     "output_type": "stream",
     "text": [
      "667\n"
     ]
    }
   ],
   "source": [
    "g = [42, 5,8, 83, 7, 24,  1, 56, 87, 23, 12, 667, 123]\n",
    "print(reduce(lambda a, b: a if a>b else b, g))"
   ]
  },
  {
   "cell_type": "code",
   "execution_count": null,
   "id": "78a938de",
   "metadata": {},
   "outputs": [],
   "source": []
  }
 ],
 "metadata": {
  "kernelspec": {
   "display_name": "Python 3",
   "language": "python",
   "name": "python3"
  },
  "language_info": {
   "codemirror_mode": {
    "name": "ipython",
    "version": 3
   },
   "file_extension": ".py",
   "mimetype": "text/x-python",
   "name": "python",
   "nbconvert_exporter": "python",
   "pygments_lexer": "ipython3",
   "version": "3.8.8"
  }
 },
 "nbformat": 4,
 "nbformat_minor": 5
}
