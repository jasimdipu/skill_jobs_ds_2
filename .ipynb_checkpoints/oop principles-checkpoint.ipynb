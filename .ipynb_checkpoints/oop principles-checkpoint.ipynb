{
 "cells": [
  {
   "cell_type": "markdown",
   "id": "a69b6a04",
   "metadata": {},
   "source": [
    "# Object oriented principles"
   ]
  },
  {
   "cell_type": "markdown",
   "id": "192ca534",
   "metadata": {},
   "source": [
    "#### Abstraction, inheritance, polymorphism"
   ]
  },
  {
   "cell_type": "code",
   "execution_count": 22,
   "id": "b0227dbf",
   "metadata": {},
   "outputs": [],
   "source": [
    "# abstraction class\n",
    "from abc import ABC, abstractmethod\n",
    "class Student(ABC):\n",
    "    \n",
    "    # attr -> id, name, dept,\n",
    "    # function -> no body\n",
    "    # abstraction class didn't make any object\n",
    "    @abstractmethod\n",
    "    def get_id(self):\n",
    "        pass\n",
    "    \n",
    "    @abstractmethod\n",
    "    def get_name(self): # mohammad tarikh hasan\n",
    "        pass\n",
    "    \n",
    "    @abstractmethod\n",
    "    def get_dept(self):\n",
    "        pass\n",
    "    \n",
    "    @abstractmethod\n",
    "    def set_id(self, stu_id):\n",
    "        pass\n",
    "    \n",
    "    @abstractmethod\n",
    "    def set_name(self, name):\n",
    "        pass\n",
    "    \n",
    "    @abstractmethod\n",
    "    def set_dept(self, dept):\n",
    "        pass"
   ]
  },
  {
   "cell_type": "code",
   "execution_count": 24,
   "id": "0d25dbbe",
   "metadata": {},
   "outputs": [],
   "source": [
    "# inheritance\n",
    "# Student -> parent class, StudentImpl-> child class\n",
    "class StudentImpl(Student):\n",
    "\n",
    "    def __init__(self, stu_id, name, dept):\n",
    "        self.__stu_id = stu_id\n",
    "        self.__name = name\n",
    "        self.__dept = dept\n",
    "    \n",
    "    def get_id(self):\n",
    "        return self.__stu_id\n",
    "    \n",
    "    def get_name(self): # mohammad tarikh hasan\n",
    "        return self.__name\n",
    "  \n",
    "    def get_dept(self):\n",
    "        return self.__dept\n",
    "\n",
    "    def set_id(self, stu_id):\n",
    "        self.__stu_id = stu_id\n",
    "    \n",
    "\n",
    "    def set_name(self, name):\n",
    "        self.__name = name\n",
    "    \n",
    "    def set_dept(self, dept):\n",
    "        self.__dept = dept\n"
   ]
  },
  {
   "cell_type": "code",
   "execution_count": 26,
   "id": "5a678d4c",
   "metadata": {},
   "outputs": [],
   "source": [
    "studentimpl = StudentImpl(12342, \"Jamil Hasan\", \"CSE\")"
   ]
  },
  {
   "cell_type": "code",
   "execution_count": 27,
   "id": "15e512c0",
   "metadata": {},
   "outputs": [
    {
     "data": {
      "text/plain": [
       "(12342, 'Jamil Hasan', 'CSE')"
      ]
     },
     "execution_count": 27,
     "metadata": {},
     "output_type": "execute_result"
    }
   ],
   "source": [
    "studentimpl.get_id(),studentimpl.get_name(),studentimpl.get_dept(),"
   ]
  },
  {
   "cell_type": "code",
   "execution_count": 67,
   "id": "b6a19210",
   "metadata": {},
   "outputs": [],
   "source": [
    "class Student_Account(StudentImpl):\n",
    "    # sem, credit, credit fees, waiver\n",
    "    \n",
    "    def __init__(self, stu_id, name, dept, sem, credit, credit_fees=5000, waiver=0):\n",
    "        super(Student_Account, self).__init__(stu_id=stu_id, name=name, dept=dept)\n",
    "        self.__sem = sem\n",
    "        self.__credit = credit\n",
    "        self.__credit_fees = credit_fees\n",
    "        self.__waiver = waiver\n",
    "        self.__total_fees = self.__credit*self.__credit_fees\n",
    "        \n",
    "    def get_total_fees(self):\n",
    "        return self.__total_fees\n",
    "    \n",
    "    \n",
    "    def get_total_fees_after_waiver(self):\n",
    "        return self.get_total_fees()-self.__waiver\n",
    "    \n",
    "    def get_registered(self, payment):\n",
    "        \n",
    "        rest_amount = self.get_total_fees() - payment\n",
    "        self.__total_fees = rest_amount\n",
    "        \n",
    "        return \"Your Payment is: \"+str(payment)+\"/nRest of the amount is: \"+str(rest_amount)\n",
    "        \n",
    "        \n",
    "        "
   ]
  },
  {
   "cell_type": "code",
   "execution_count": 63,
   "id": "e996f3a0",
   "metadata": {},
   "outputs": [],
   "source": [
    "stu_acc = Student_Account(52345, \"Tarek Ahmed\", \"IT\", \"3rd\", 20, waiver= 10000)"
   ]
  },
  {
   "cell_type": "code",
   "execution_count": 64,
   "id": "f0f4480c",
   "metadata": {},
   "outputs": [
    {
     "data": {
      "text/plain": [
       "(52345, 'Tarek Ahmed', 'IT')"
      ]
     },
     "execution_count": 64,
     "metadata": {},
     "output_type": "execute_result"
    }
   ],
   "source": [
    "stu_acc.get_id(), stu_acc.get_name(), stu_acc.get_dept()"
   ]
  },
  {
   "cell_type": "code",
   "execution_count": 41,
   "id": "3eb92912",
   "metadata": {},
   "outputs": [],
   "source": [
    "stu_acc.set_id(3253)\n",
    "stu_acc.set_name(\"Masum\")\n",
    "stu_acc.set_dept(\"BBA\")"
   ]
  },
  {
   "cell_type": "code",
   "execution_count": 51,
   "id": "a8d59c44",
   "metadata": {},
   "outputs": [
    {
     "data": {
      "text/plain": [
       "(52345, 'Tarek Ahmed', 'IT')"
      ]
     },
     "execution_count": 51,
     "metadata": {},
     "output_type": "execute_result"
    }
   ],
   "source": [
    "stu_acc.get_id(), stu_acc.get_name(), stu_acc.get_dept()"
   ]
  },
  {
   "cell_type": "code",
   "execution_count": 52,
   "id": "9a0660b6",
   "metadata": {},
   "outputs": [
    {
     "data": {
      "text/plain": [
       "100000"
      ]
     },
     "execution_count": 52,
     "metadata": {},
     "output_type": "execute_result"
    }
   ],
   "source": [
    "stu_acc.get_total_fees()"
   ]
  },
  {
   "cell_type": "code",
   "execution_count": 53,
   "id": "fcdeae32",
   "metadata": {},
   "outputs": [
    {
     "data": {
      "text/plain": [
       "90000"
      ]
     },
     "execution_count": 53,
     "metadata": {},
     "output_type": "execute_result"
    }
   ],
   "source": [
    "stu_acc.get_total_fees_after_waiver()"
   ]
  },
  {
   "cell_type": "code",
   "execution_count": 65,
   "id": "107c8b73",
   "metadata": {},
   "outputs": [
    {
     "data": {
      "text/plain": [
       "'Your Payment is: 20000/nRest of the amount is: 80000'"
      ]
     },
     "execution_count": 65,
     "metadata": {},
     "output_type": "execute_result"
    }
   ],
   "source": [
    "stu_acc.get_registered(20000)"
   ]
  },
  {
   "cell_type": "code",
   "execution_count": 66,
   "id": "d9e922d1",
   "metadata": {},
   "outputs": [
    {
     "data": {
      "text/plain": [
       "100000"
      ]
     },
     "execution_count": 66,
     "metadata": {},
     "output_type": "execute_result"
    }
   ],
   "source": [
    "stu_acc.get_total_fees()"
   ]
  },
  {
   "cell_type": "code",
   "execution_count": null,
   "id": "d5fd50f3",
   "metadata": {},
   "outputs": [],
   "source": []
  }
 ],
 "metadata": {
  "kernelspec": {
   "display_name": "Python 3",
   "language": "python",
   "name": "python3"
  },
  "language_info": {
   "codemirror_mode": {
    "name": "ipython",
    "version": 3
   },
   "file_extension": ".py",
   "mimetype": "text/x-python",
   "name": "python",
   "nbconvert_exporter": "python",
   "pygments_lexer": "ipython3",
   "version": "3.6.9"
  }
 },
 "nbformat": 4,
 "nbformat_minor": 5
}
