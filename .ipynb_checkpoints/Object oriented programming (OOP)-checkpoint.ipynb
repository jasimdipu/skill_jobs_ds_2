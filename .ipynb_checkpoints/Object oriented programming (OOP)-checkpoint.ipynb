{
 "cells": [
  {
   "cell_type": "markdown",
   "id": "861f1302",
   "metadata": {},
   "source": [
    "### class -> object blue print, object collections -> attr, functions"
   ]
  },
  {
   "cell_type": "code",
   "execution_count": 29,
   "id": "fc9b9b6d",
   "metadata": {},
   "outputs": [],
   "source": [
    "class Student:\n",
    "    \n",
    "    # attributesvariable (Global, local), functions\n",
    "    name = \"\"\n",
    "    age = \"\"\n",
    "    dept = \"\"\n",
    "    \n",
    "    \n",
    "    \n",
    "    def local_example(self):\n",
    "        # local variable\n",
    "        name = \"\"\n",
    "        return self.name\n",
    "    \n",
    "    \n",
    "    def set_student_name(self, name):\n",
    "        def get_student_name(n):\n",
    "            return n\n",
    "        return get_student_name(name)"
   ]
  },
  {
   "cell_type": "code",
   "execution_count": 30,
   "id": "584165e1",
   "metadata": {},
   "outputs": [],
   "source": [
    "# create an object\n",
    "student = Student()"
   ]
  },
  {
   "cell_type": "code",
   "execution_count": 31,
   "id": "bc856159",
   "metadata": {},
   "outputs": [],
   "source": [
    "student.name = \"Tamim\""
   ]
  },
  {
   "cell_type": "code",
   "execution_count": 32,
   "id": "fbdc5d69",
   "metadata": {},
   "outputs": [
    {
     "data": {
      "text/plain": [
       "'Tamim'"
      ]
     },
     "execution_count": 32,
     "metadata": {},
     "output_type": "execute_result"
    }
   ],
   "source": [
    "student.name"
   ]
  },
  {
   "cell_type": "code",
   "execution_count": 33,
   "id": "c36d9888",
   "metadata": {},
   "outputs": [
    {
     "data": {
      "text/plain": [
       "'Shahin'"
      ]
     },
     "execution_count": 33,
     "metadata": {},
     "output_type": "execute_result"
    }
   ],
   "source": [
    "student.set_student_name(\"Shahin\")"
   ]
  },
  {
   "cell_type": "code",
   "execution_count": null,
   "id": "2f1241eb",
   "metadata": {},
   "outputs": [],
   "source": []
  },
  {
   "cell_type": "code",
   "execution_count": 34,
   "id": "0f3e7123",
   "metadata": {},
   "outputs": [],
   "source": [
    "class Student:\n",
    "    # attr -> variable (Global, local)\n",
    "    name = \"\"\n",
    "    age = \"\"\n",
    "    dept = \"\"\n",
    "    \n",
    "    # constructor\n",
    "    def __init__(self, name, age, dept):\n",
    "        self.name = name\n",
    "        self.age = age\n",
    "        self.dept = dept\n",
    "        \n",
    "    \n",
    "    "
   ]
  },
  {
   "cell_type": "code",
   "execution_count": 36,
   "id": "4d33a511",
   "metadata": {},
   "outputs": [],
   "source": [
    "student = Student(\"kamal\", 24, \"CSE\")"
   ]
  },
  {
   "cell_type": "code",
   "execution_count": null,
   "id": "76b8253f",
   "metadata": {},
   "outputs": [],
   "source": []
  }
 ],
 "metadata": {
  "kernelspec": {
   "display_name": "Python 3",
   "language": "python",
   "name": "python3"
  },
  "language_info": {
   "codemirror_mode": {
    "name": "ipython",
    "version": 3
   },
   "file_extension": ".py",
   "mimetype": "text/x-python",
   "name": "python",
   "nbconvert_exporter": "python",
   "pygments_lexer": "ipython3",
   "version": "3.8.8"
  }
 },
 "nbformat": 4,
 "nbformat_minor": 5
}
