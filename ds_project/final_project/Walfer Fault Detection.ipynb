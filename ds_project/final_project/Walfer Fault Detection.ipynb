{
 "cells": [
  {
   "cell_type": "code",
   "execution_count": 1,
   "id": "6f89639c",
   "metadata": {},
   "outputs": [],
   "source": [
    "import pandas as pd\n",
    "import numpy as np"
   ]
  },
  {
   "cell_type": "code",
   "execution_count": 2,
   "id": "4f9708d9",
   "metadata": {},
   "outputs": [],
   "source": [
    "df = pd.read_csv(\"Wafer_15010_130532.csv\")"
   ]
  },
  {
   "cell_type": "code",
   "execution_count": 3,
   "id": "d4ed840c",
   "metadata": {},
   "outputs": [
    {
     "data": {
      "text/html": [
       "<div>\n",
       "<style scoped>\n",
       "    .dataframe tbody tr th:only-of-type {\n",
       "        vertical-align: middle;\n",
       "    }\n",
       "\n",
       "    .dataframe tbody tr th {\n",
       "        vertical-align: top;\n",
       "    }\n",
       "\n",
       "    .dataframe thead th {\n",
       "        text-align: right;\n",
       "    }\n",
       "</style>\n",
       "<table border=\"1\" class=\"dataframe\">\n",
       "  <thead>\n",
       "    <tr style=\"text-align: right;\">\n",
       "      <th></th>\n",
       "      <th>Unnamed: 0</th>\n",
       "      <th>Sensor-1</th>\n",
       "      <th>Sensor-2</th>\n",
       "      <th>Sensor-3</th>\n",
       "      <th>Sensor-4</th>\n",
       "      <th>Sensor-5</th>\n",
       "      <th>Sensor-6</th>\n",
       "      <th>Sensor-7</th>\n",
       "      <th>Sensor-8</th>\n",
       "      <th>Sensor-9</th>\n",
       "      <th>...</th>\n",
       "      <th>Sensor-581</th>\n",
       "      <th>Sensor-582</th>\n",
       "      <th>Sensor-583</th>\n",
       "      <th>Sensor-584</th>\n",
       "      <th>Sensor-585</th>\n",
       "      <th>Sensor-586</th>\n",
       "      <th>Sensor-587</th>\n",
       "      <th>Sensor-588</th>\n",
       "      <th>Sensor-589</th>\n",
       "      <th>Sensor-590</th>\n",
       "    </tr>\n",
       "  </thead>\n",
       "  <tbody>\n",
       "    <tr>\n",
       "      <th>0</th>\n",
       "      <td>Wafer-800</td>\n",
       "      <td>3002.22</td>\n",
       "      <td>2462.06</td>\n",
       "      <td>2202.1222</td>\n",
       "      <td>1833.3772</td>\n",
       "      <td>1.8005</td>\n",
       "      <td>100</td>\n",
       "      <td>95.8500</td>\n",
       "      <td>0.1242</td>\n",
       "      <td>1.5173</td>\n",
       "      <td>...</td>\n",
       "      <td>NaN</td>\n",
       "      <td>NaN</td>\n",
       "      <td>0.5021</td>\n",
       "      <td>0.0071</td>\n",
       "      <td>0.0024</td>\n",
       "      <td>1.4182</td>\n",
       "      <td>0.0545</td>\n",
       "      <td>0.0184</td>\n",
       "      <td>0.0055</td>\n",
       "      <td>33.7876</td>\n",
       "    </tr>\n",
       "    <tr>\n",
       "      <th>1</th>\n",
       "      <td>Wafer-500</td>\n",
       "      <td>3047.28</td>\n",
       "      <td>2186.06</td>\n",
       "      <td>2235.0556</td>\n",
       "      <td>1302.6607</td>\n",
       "      <td>1.6347</td>\n",
       "      <td>100</td>\n",
       "      <td>109.9856</td>\n",
       "      <td>0.1230</td>\n",
       "      <td>1.4619</td>\n",
       "      <td>...</td>\n",
       "      <td>NaN</td>\n",
       "      <td>NaN</td>\n",
       "      <td>0.4998</td>\n",
       "      <td>0.0131</td>\n",
       "      <td>0.0033</td>\n",
       "      <td>2.6229</td>\n",
       "      <td>0.0222</td>\n",
       "      <td>0.0182</td>\n",
       "      <td>0.0060</td>\n",
       "      <td>81.9472</td>\n",
       "    </tr>\n",
       "    <tr>\n",
       "      <th>2</th>\n",
       "      <td>Wafer-501</td>\n",
       "      <td>3076.81</td>\n",
       "      <td>2158.75</td>\n",
       "      <td>2208.2334</td>\n",
       "      <td>1517.0152</td>\n",
       "      <td>1.0980</td>\n",
       "      <td>100</td>\n",
       "      <td>110.1900</td>\n",
       "      <td>0.1247</td>\n",
       "      <td>1.4357</td>\n",
       "      <td>...</td>\n",
       "      <td>0.0090</td>\n",
       "      <td>64.2405</td>\n",
       "      <td>0.5016</td>\n",
       "      <td>0.0152</td>\n",
       "      <td>0.0040</td>\n",
       "      <td>3.0319</td>\n",
       "      <td>0.0465</td>\n",
       "      <td>0.0299</td>\n",
       "      <td>0.0090</td>\n",
       "      <td>64.2405</td>\n",
       "    </tr>\n",
       "    <tr>\n",
       "      <th>3</th>\n",
       "      <td>Wafer-502</td>\n",
       "      <td>2951.62</td>\n",
       "      <td>2511.92</td>\n",
       "      <td>2253.5111</td>\n",
       "      <td>1397.5060</td>\n",
       "      <td>0.9660</td>\n",
       "      <td>100</td>\n",
       "      <td>109.7611</td>\n",
       "      <td>0.1210</td>\n",
       "      <td>1.5527</td>\n",
       "      <td>...</td>\n",
       "      <td>0.0081</td>\n",
       "      <td>0.0000</td>\n",
       "      <td>0.4953</td>\n",
       "      <td>0.0105</td>\n",
       "      <td>0.0037</td>\n",
       "      <td>2.1266</td>\n",
       "      <td>-0.0012</td>\n",
       "      <td>0.0252</td>\n",
       "      <td>0.0081</td>\n",
       "      <td>0.0000</td>\n",
       "    </tr>\n",
       "    <tr>\n",
       "      <th>4</th>\n",
       "      <td>Wafer-503</td>\n",
       "      <td>2930.42</td>\n",
       "      <td>2505.17</td>\n",
       "      <td>2235.0556</td>\n",
       "      <td>1302.6607</td>\n",
       "      <td>1.6347</td>\n",
       "      <td>100</td>\n",
       "      <td>109.9856</td>\n",
       "      <td>0.1230</td>\n",
       "      <td>1.4588</td>\n",
       "      <td>...</td>\n",
       "      <td>NaN</td>\n",
       "      <td>NaN</td>\n",
       "      <td>0.4958</td>\n",
       "      <td>0.0111</td>\n",
       "      <td>0.0033</td>\n",
       "      <td>2.2296</td>\n",
       "      <td>-0.0012</td>\n",
       "      <td>0.0252</td>\n",
       "      <td>0.0081</td>\n",
       "      <td>0.0000</td>\n",
       "    </tr>\n",
       "  </tbody>\n",
       "</table>\n",
       "<p>5 rows × 591 columns</p>\n",
       "</div>"
      ],
      "text/plain": [
       "  Unnamed: 0  Sensor-1  Sensor-2   Sensor-3   Sensor-4  Sensor-5  Sensor-6  \\\n",
       "0  Wafer-800   3002.22   2462.06  2202.1222  1833.3772    1.8005       100   \n",
       "1  Wafer-500   3047.28   2186.06  2235.0556  1302.6607    1.6347       100   \n",
       "2  Wafer-501   3076.81   2158.75  2208.2334  1517.0152    1.0980       100   \n",
       "3  Wafer-502   2951.62   2511.92  2253.5111  1397.5060    0.9660       100   \n",
       "4  Wafer-503   2930.42   2505.17  2235.0556  1302.6607    1.6347       100   \n",
       "\n",
       "   Sensor-7  Sensor-8  Sensor-9  ...  Sensor-581  Sensor-582  Sensor-583  \\\n",
       "0   95.8500    0.1242    1.5173  ...         NaN         NaN      0.5021   \n",
       "1  109.9856    0.1230    1.4619  ...         NaN         NaN      0.4998   \n",
       "2  110.1900    0.1247    1.4357  ...      0.0090     64.2405      0.5016   \n",
       "3  109.7611    0.1210    1.5527  ...      0.0081      0.0000      0.4953   \n",
       "4  109.9856    0.1230    1.4588  ...         NaN         NaN      0.4958   \n",
       "\n",
       "   Sensor-584  Sensor-585  Sensor-586  Sensor-587  Sensor-588  Sensor-589  \\\n",
       "0      0.0071      0.0024      1.4182      0.0545      0.0184      0.0055   \n",
       "1      0.0131      0.0033      2.6229      0.0222      0.0182      0.0060   \n",
       "2      0.0152      0.0040      3.0319      0.0465      0.0299      0.0090   \n",
       "3      0.0105      0.0037      2.1266     -0.0012      0.0252      0.0081   \n",
       "4      0.0111      0.0033      2.2296     -0.0012      0.0252      0.0081   \n",
       "\n",
       "   Sensor-590  \n",
       "0     33.7876  \n",
       "1     81.9472  \n",
       "2     64.2405  \n",
       "3      0.0000  \n",
       "4      0.0000  \n",
       "\n",
       "[5 rows x 591 columns]"
      ]
     },
     "execution_count": 3,
     "metadata": {},
     "output_type": "execute_result"
    }
   ],
   "source": [
    "df.head()"
   ]
  },
  {
   "cell_type": "code",
   "execution_count": 4,
   "id": "61e7df70",
   "metadata": {},
   "outputs": [
    {
     "data": {
      "text/plain": [
       "(101, 591)"
      ]
     },
     "execution_count": 4,
     "metadata": {},
     "output_type": "execute_result"
    }
   ],
   "source": [
    "df.shape"
   ]
  },
  {
   "cell_type": "code",
   "execution_count": 5,
   "id": "ce135634",
   "metadata": {},
   "outputs": [
    {
     "data": {
      "text/plain": [
       "Unnamed: 0     object\n",
       "Sensor-1      float64\n",
       "Sensor-2      float64\n",
       "Sensor-3      float64\n",
       "Sensor-4      float64\n",
       "               ...   \n",
       "Sensor-586    float64\n",
       "Sensor-587    float64\n",
       "Sensor-588    float64\n",
       "Sensor-589    float64\n",
       "Sensor-590    float64\n",
       "Length: 591, dtype: object"
      ]
     },
     "execution_count": 5,
     "metadata": {},
     "output_type": "execute_result"
    }
   ],
   "source": [
    "df.dtypes"
   ]
  },
  {
   "cell_type": "code",
   "execution_count": 6,
   "id": "88142ae9",
   "metadata": {},
   "outputs": [
    {
     "data": {
      "text/plain": [
       "Unnamed: 0    0\n",
       "Sensor-1      0\n",
       "Sensor-2      0\n",
       "Sensor-3      0\n",
       "Sensor-4      0\n",
       "             ..\n",
       "Sensor-586    0\n",
       "Sensor-587    0\n",
       "Sensor-588    0\n",
       "Sensor-589    0\n",
       "Sensor-590    0\n",
       "Length: 591, dtype: int64"
      ]
     },
     "execution_count": 6,
     "metadata": {},
     "output_type": "execute_result"
    }
   ],
   "source": [
    "df.isna().sum()"
   ]
  },
  {
   "cell_type": "code",
   "execution_count": null,
   "id": "1d871149",
   "metadata": {},
   "outputs": [],
   "source": []
  }
 ],
 "metadata": {
  "kernelspec": {
   "display_name": "Python 3",
   "language": "python",
   "name": "python3"
  },
  "language_info": {
   "codemirror_mode": {
    "name": "ipython",
    "version": 3
   },
   "file_extension": ".py",
   "mimetype": "text/x-python",
   "name": "python",
   "nbconvert_exporter": "python",
   "pygments_lexer": "ipython3",
   "version": "3.6.9"
  }
 },
 "nbformat": 4,
 "nbformat_minor": 5
}
