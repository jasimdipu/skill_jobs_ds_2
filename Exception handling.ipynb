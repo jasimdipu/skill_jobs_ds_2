{
 "cells": [
  {
   "cell_type": "code",
   "execution_count": 1,
   "id": "4c5a59bc",
   "metadata": {},
   "outputs": [
    {
     "data": {
      "text/plain": [
       "50.0"
      ]
     },
     "execution_count": 1,
     "metadata": {},
     "output_type": "execute_result"
    }
   ],
   "source": [
    "100/2"
   ]
  },
  {
   "cell_type": "code",
   "execution_count": 2,
   "id": "7e4e83b1",
   "metadata": {},
   "outputs": [
    {
     "name": "stdout",
     "output_type": "stream",
     "text": [
      "division by zero\n"
     ]
    }
   ],
   "source": [
    "try:\n",
    "    100/0\n",
    "except Exception as e:\n",
    "    print(e)"
   ]
  },
  {
   "cell_type": "code",
   "execution_count": 3,
   "id": "d538c8ba",
   "metadata": {},
   "outputs": [
    {
     "data": {
      "text/plain": [
       "10.0"
      ]
     },
     "execution_count": 3,
     "metadata": {},
     "output_type": "execute_result"
    }
   ],
   "source": [
    "100/10"
   ]
  },
  {
   "cell_type": "code",
   "execution_count": 6,
   "id": "91beff96",
   "metadata": {},
   "outputs": [],
   "source": [
    "def create_file(file_name, mode):\n",
    "    try:\n",
    "        file = open(file_name, mode)\n",
    "    except Exception as e:\n",
    "        print(e, \"This exception is happend on Exception notebook file line no 4\")"
   ]
  },
  {
   "cell_type": "code",
   "execution_count": 7,
   "id": "8ab3ae77",
   "metadata": {},
   "outputs": [
    {
     "name": "stdout",
     "output_type": "stream",
     "text": [
      "[Errno 2] No such file or directory: 'test2.txt' This exception is happend on Exception notebook file line no 4\n"
     ]
    }
   ],
   "source": [
    "create_file(\"test2.txt\", \"r\")"
   ]
  },
  {
   "cell_type": "code",
   "execution_count": 30,
   "id": "d2f6462a",
   "metadata": {},
   "outputs": [],
   "source": [
    "def divide_number():\n",
    "    try:\n",
    "        num1=int(input())\n",
    "        num2 = int(input())\n",
    "        res = num1/num2\n",
    "        return res\n",
    "    except Exception as e:\n",
    "        print(e)\n",
    "        divide_number()"
   ]
  },
  {
   "cell_type": "code",
   "execution_count": 31,
   "id": "09128a0b",
   "metadata": {},
   "outputs": [
    {
     "name": "stdout",
     "output_type": "stream",
     "text": [
      "a\n",
      "invalid literal for int() with base 10: 'a'\n",
      "100\n",
      "0\n",
      "division by zero\n",
      "20\n",
      "10\n"
     ]
    }
   ],
   "source": [
    "divide_number()"
   ]
  },
  {
   "cell_type": "code",
   "execution_count": 38,
   "id": "3f91757f",
   "metadata": {},
   "outputs": [],
   "source": [
    "def divide_number_2():\n",
    "    try:\n",
    "        num1=int(input())\n",
    "        num2 = int(input())\n",
    "        res = num1/num2\n",
    "        print(res)\n",
    "    except ZeroDivisionError as e:\n",
    "        print(e, \"please input a number bigger than 0\")\n",
    "        divide_number_2()\n",
    "    except ValueError as e:\n",
    "        print(e, \"please enter a valid input Ex: 10 or 20\")\n",
    "        divide_number_2()\n",
    "    except Exception as e:\n",
    "        print(e)"
   ]
  },
  {
   "cell_type": "code",
   "execution_count": 39,
   "id": "8207eec2",
   "metadata": {},
   "outputs": [
    {
     "name": "stdout",
     "output_type": "stream",
     "text": [
      "a\n",
      "invalid literal for int() with base 10: 'a' please enter a valid input Ex: 10 or 20\n",
      "0\n",
      "0\n",
      "division by zero please input a number bigger than 0\n",
      "100\n",
      "10\n",
      "10.0\n"
     ]
    }
   ],
   "source": [
    "divide_number_2()"
   ]
  },
  {
   "cell_type": "code",
   "execution_count": 43,
   "id": "45026d58",
   "metadata": {},
   "outputs": [],
   "source": [
    "class MaxNumberEroor(Exception):\n",
    "    pass\n",
    "class MinNumberError(Exception):\n",
    "    pass"
   ]
  },
  {
   "cell_type": "code",
   "execution_count": 44,
   "id": "c0cc91b8",
   "metadata": {},
   "outputs": [],
   "source": [
    "def input_number():\n",
    "    try:\n",
    "        max_num = int(input(\"Input a max number\"))\n",
    "        min_num = int(input(\"Input a min number\"))\n",
    "        if max_num > 1000:\n",
    "            raise MaxNumberEroor\n",
    "        if min_num < 100:\n",
    "            raise MinNumberError\n",
    "    except MaxNumberEroor as e:\n",
    "        print(e, \"Please input smaller then 1000\")\n",
    "        input_number()\n",
    "    except MinNumberError as e:\n",
    "        print(e, \"please input bigger then 100\")\n",
    "        input_number()"
   ]
  },
  {
   "cell_type": "code",
   "execution_count": 46,
   "id": "5cfaa760",
   "metadata": {},
   "outputs": [
    {
     "name": "stdout",
     "output_type": "stream",
     "text": [
      "Input a max number900\n",
      "Input a min number20\n",
      " please input bigger then 100\n"
     ]
    }
   ],
   "source": [
    "input_number()"
   ]
  },
  {
   "cell_type": "code",
   "execution_count": null,
   "id": "bc7da262",
   "metadata": {},
   "outputs": [],
   "source": []
  }
 ],
 "metadata": {
  "kernelspec": {
   "display_name": "Python 3",
   "language": "python",
   "name": "python3"
  },
  "language_info": {
   "codemirror_mode": {
    "name": "ipython",
    "version": 3
   },
   "file_extension": ".py",
   "mimetype": "text/x-python",
   "name": "python",
   "nbconvert_exporter": "python",
   "pygments_lexer": "ipython3",
   "version": "3.8.8"
  }
 },
 "nbformat": 4,
 "nbformat_minor": 5
}
