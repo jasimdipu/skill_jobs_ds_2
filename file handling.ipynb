{
 "cells": [
  {
   "cell_type": "markdown",
   "id": "42adbd86",
   "metadata": {},
   "source": [
    "# File handeling"
   ]
  },
  {
   "cell_type": "code",
   "execution_count": 6,
   "id": "fcaf9491",
   "metadata": {},
   "outputs": [],
   "source": [
    "file = open(\"test.txt\", \"w\")"
   ]
  },
  {
   "cell_type": "code",
   "execution_count": 7,
   "id": "270ae3a6",
   "metadata": {},
   "outputs": [],
   "source": [
    "file.write(\"This is our data science class file\")\n",
    "file.close()"
   ]
  },
  {
   "cell_type": "code",
   "execution_count": 8,
   "id": "df721f9e",
   "metadata": {},
   "outputs": [],
   "source": [
    "file = open(\"test.txt\", \"a\")"
   ]
  },
  {
   "cell_type": "code",
   "execution_count": 9,
   "id": "146ab7f1",
   "metadata": {},
   "outputs": [],
   "source": [
    "file.write(\"Second line for input a text again.\")\n",
    "file.close()"
   ]
  },
  {
   "cell_type": "code",
   "execution_count": 10,
   "id": "f356f183",
   "metadata": {},
   "outputs": [],
   "source": [
    "file = open(\"test.txt\", \"r\")"
   ]
  },
  {
   "cell_type": "code",
   "execution_count": 11,
   "id": "153934b4",
   "metadata": {},
   "outputs": [
    {
     "data": {
      "text/plain": [
       "'This is our data science class fileSecond line for input a text again.'"
      ]
     },
     "execution_count": 11,
     "metadata": {},
     "output_type": "execute_result"
    }
   ],
   "source": [
    "file.readline()"
   ]
  },
  {
   "cell_type": "code",
   "execution_count": null,
   "id": "70835dbe",
   "metadata": {},
   "outputs": [],
   "source": [
    "# assignment : create a function where we can create file and also read file using parameter, when we \n",
    "# creat file and mode is 'w', we can also take a parameter like (file name, mode, text) input the text\n",
    "# if mode is r then we can print the text."
   ]
  },
  {
   "cell_type": "markdown",
   "id": "51ca9c6c",
   "metadata": {},
   "source": [
    "# Exception Handeling"
   ]
  },
  {
   "cell_type": "code",
   "execution_count": 12,
   "id": "7d0bdcf3",
   "metadata": {},
   "outputs": [
    {
     "ename": "FileNotFoundError",
     "evalue": "[Errno 2] No such file or directory: 'my_file.docx'",
     "output_type": "error",
     "traceback": [
      "\u001b[1;31m---------------------------------------------------------------------------\u001b[0m",
      "\u001b[1;31mFileNotFoundError\u001b[0m                         Traceback (most recent call last)",
      "\u001b[1;32m<ipython-input-12-c6e40dfbf207>\u001b[0m in \u001b[0;36m<module>\u001b[1;34m\u001b[0m\n\u001b[1;32m----> 1\u001b[1;33m \u001b[0mfile\u001b[0m \u001b[1;33m=\u001b[0m \u001b[0mopen\u001b[0m\u001b[1;33m(\u001b[0m\u001b[1;34m\"my_file.docx\"\u001b[0m\u001b[1;33m,\u001b[0m \u001b[1;34m\"r\"\u001b[0m\u001b[1;33m)\u001b[0m\u001b[1;33m\u001b[0m\u001b[1;33m\u001b[0m\u001b[0m\n\u001b[0m",
      "\u001b[1;31mFileNotFoundError\u001b[0m: [Errno 2] No such file or directory: 'my_file.docx'"
     ]
    }
   ],
   "source": [
    "file = open(\"my_file.docx\", \"r\")"
   ]
  },
  {
   "cell_type": "code",
   "execution_count": null,
   "id": "c485d50a",
   "metadata": {},
   "outputs": [],
   "source": []
  }
 ],
 "metadata": {
  "kernelspec": {
   "display_name": "Python 3",
   "language": "python",
   "name": "python3"
  },
  "language_info": {
   "codemirror_mode": {
    "name": "ipython",
    "version": 3
   },
   "file_extension": ".py",
   "mimetype": "text/x-python",
   "name": "python",
   "nbconvert_exporter": "python",
   "pygments_lexer": "ipython3",
   "version": "3.8.8"
  }
 },
 "nbformat": 4,
 "nbformat_minor": 5
}
