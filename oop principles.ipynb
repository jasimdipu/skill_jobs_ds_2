{
 "cells": [
  {
   "cell_type": "markdown",
   "id": "f58651ac",
   "metadata": {},
   "source": [
    "# Object oriented principles"
   ]
  },
  {
   "cell_type": "markdown",
   "id": "f3564a03",
   "metadata": {},
   "source": [
    "#### Abstraction, inheritance, polymorphism"
   ]
  },
  {
   "cell_type": "code",
   "execution_count": 22,
   "id": "6b3ae4fd",
   "metadata": {},
   "outputs": [],
   "source": [
    "# abstraction class\n",
    "from abc import ABC, abstractmethod\n",
    "class Student(ABC):\n",
    "    \n",
    "    # attr -> id, name, dept,\n",
    "    # function -> no body\n",
    "    # abstraction class didn't make any object\n",
    "    @abstractmethod\n",
    "    def get_id(self):\n",
    "        pass\n",
    "    \n",
    "    @abstractmethod\n",
    "    def get_name(self): # mohammad tarikh hasan\n",
    "        pass\n",
    "    \n",
    "    @abstractmethod\n",
    "    def get_dept(self):\n",
    "        pass\n",
    "    \n",
    "    @abstractmethod\n",
    "    def set_id(self, stu_id):\n",
    "        pass\n",
    "    \n",
    "    @abstractmethod\n",
    "    def set_name(self, name):\n",
    "        pass\n",
    "    \n",
    "    @abstractmethod\n",
    "    def set_dept(self, dept):\n",
    "        pass"
   ]
  },
  {
   "cell_type": "code",
   "execution_count": 24,
   "id": "8328f8fd",
   "metadata": {},
   "outputs": [],
   "source": [
    "# inheritance\n",
    "# Student -> parent class, StudentImpl-> child class\n",
    "class StudentImpl(Student):\n",
    "\n",
    "    def __init__(self, stu_id, name, dept):\n",
    "        self.__stu_id = stu_id\n",
    "        self.__name = name\n",
    "        self.__dept = dept\n",
    "    \n",
    "    def get_id(self):\n",
    "        return self.__stu_id\n",
    "    \n",
    "    def get_name(self): # mohammad tarikh hasan\n",
    "        return self.__name\n",
    "  \n",
    "    def get_dept(self):\n",
    "        return self.__dept\n",
    "\n",
    "    def set_id(self, stu_id):\n",
    "        self.__stu_id = stu_id\n",
    "    \n",
    "\n",
    "    def set_name(self, name):\n",
    "        self.__name = name\n",
    "    \n",
    "    def set_dept(self, dept):\n",
    "        self.__dept = dept\n"
   ]
  },
  {
   "cell_type": "code",
   "execution_count": 26,
   "id": "8670b2a9",
   "metadata": {},
   "outputs": [],
   "source": [
    "studentimpl = StudentImpl(12342, \"Jamil Hasan\", \"CSE\")"
   ]
  },
  {
   "cell_type": "code",
   "execution_count": 27,
   "id": "f64a8d20",
   "metadata": {},
   "outputs": [
    {
     "data": {
      "text/plain": [
       "(12342, 'Jamil Hasan', 'CSE')"
      ]
     },
     "execution_count": 27,
     "metadata": {},
     "output_type": "execute_result"
    }
   ],
   "source": [
    "studentimpl.get_id(),studentimpl.get_name(),studentimpl.get_dept(),"
   ]
  },
  {
   "cell_type": "code",
   "execution_count": 77,
   "id": "55643f42",
   "metadata": {},
   "outputs": [],
   "source": [
    "class Student_Account(StudentImpl):\n",
    "    # sem, credit, credit fees, waiver\n",
    "    \n",
    "    def __init__(self, stu_id, name, dept, sem, credit, credit_fees=5000, waiver=0):\n",
    "        super(Student_Account, self).__init__(stu_id=stu_id, name=name, dept=dept)\n",
    "        self.__sem = sem\n",
    "        self.__credit = credit\n",
    "        self.__credit_fees = credit_fees\n",
    "        self.__waiver = waiver\n",
    "        self.__total_fees = self.__credit*self.__credit_fees\n",
    "        \n",
    "    def get_total_fees(self):\n",
    "        return self.__total_fees\n",
    "    \n",
    "    \n",
    "    def get_total_fees_after_waiver(self):\n",
    "        return self.get_total_fees()-self.__waiver\n",
    "    \n",
    "    def get_registered(self, payment):\n",
    "        \n",
    "        if self.__waiver > 0:\n",
    "            self.__total_fees = self.get_total_fees_after_waiver()\n",
    "        \n",
    "        rest_amount = self.get_total_fees() - payment\n",
    "        self.__total_fees = rest_amount\n",
    "        \n",
    "        return \"Your Payment is: \"+str(payment)+\"/nRest of the amount is: \"+str(rest_amount)\n",
    "        \n",
    "        \n",
    "        "
   ]
  },
  {
   "cell_type": "code",
   "execution_count": 78,
   "id": "c94b3a63",
   "metadata": {},
   "outputs": [],
   "source": [
    "stu_acc = Student_Account(52345, \"Tarek Ahmed\", \"IT\", \"3rd\", 20, waiver= 10000)"
   ]
  },
  {
   "cell_type": "code",
   "execution_count": 79,
   "id": "52bd7fdf",
   "metadata": {},
   "outputs": [
    {
     "data": {
      "text/plain": [
       "(52345, 'Tarek Ahmed', 'IT')"
      ]
     },
     "execution_count": 79,
     "metadata": {},
     "output_type": "execute_result"
    }
   ],
   "source": [
    "stu_acc.get_id(), stu_acc.get_name(), stu_acc.get_dept()"
   ]
  },
  {
   "cell_type": "code",
   "execution_count": 71,
   "id": "3028e4f8",
   "metadata": {},
   "outputs": [
    {
     "data": {
      "text/plain": [
       "(52345, 'Tarek Ahmed', 'IT')"
      ]
     },
     "execution_count": 71,
     "metadata": {},
     "output_type": "execute_result"
    }
   ],
   "source": [
    "stu_acc.get_id(), stu_acc.get_name(), stu_acc.get_dept()"
   ]
  },
  {
   "cell_type": "code",
   "execution_count": 80,
   "id": "8f9fc483",
   "metadata": {},
   "outputs": [
    {
     "data": {
      "text/plain": [
       "100000"
      ]
     },
     "execution_count": 80,
     "metadata": {},
     "output_type": "execute_result"
    }
   ],
   "source": [
    "stu_acc.get_total_fees()"
   ]
  },
  {
   "cell_type": "code",
   "execution_count": 81,
   "id": "7f91607e",
   "metadata": {},
   "outputs": [
    {
     "data": {
      "text/plain": [
       "90000"
      ]
     },
     "execution_count": 81,
     "metadata": {},
     "output_type": "execute_result"
    }
   ],
   "source": [
    "stu_acc.get_total_fees_after_waiver()"
   ]
  },
  {
   "cell_type": "code",
   "execution_count": 82,
   "id": "cd39942a",
   "metadata": {},
   "outputs": [
    {
     "data": {
      "text/plain": [
       "'Your Payment is: 20000/nRest of the amount is: 70000'"
      ]
     },
     "execution_count": 82,
     "metadata": {},
     "output_type": "execute_result"
    }
   ],
   "source": [
    "stu_acc.get_registered(20000)"
   ]
  },
  {
   "cell_type": "code",
   "execution_count": 83,
   "id": "c631e071",
   "metadata": {},
   "outputs": [
    {
     "data": {
      "text/plain": [
       "70000"
      ]
     },
     "execution_count": 83,
     "metadata": {},
     "output_type": "execute_result"
    }
   ],
   "source": [
    "stu_acc.get_total_fees()"
   ]
  },
  {
   "cell_type": "code",
   "execution_count": 75,
   "id": "e0538ff8",
   "metadata": {},
   "outputs": [
    {
     "data": {
      "text/plain": [
       "'Your Payment is: 30000/nRest of the amount is: 50000'"
      ]
     },
     "execution_count": 75,
     "metadata": {},
     "output_type": "execute_result"
    }
   ],
   "source": [
    "stu_acc.get_registered(30000)"
   ]
  },
  {
   "cell_type": "code",
   "execution_count": 76,
   "id": "a85c39cc",
   "metadata": {},
   "outputs": [
    {
     "data": {
      "text/plain": [
       "50000"
      ]
     },
     "execution_count": 76,
     "metadata": {},
     "output_type": "execute_result"
    }
   ],
   "source": [
    "stu_acc.get_total_fees()"
   ]
  },
  {
   "cell_type": "code",
   "execution_count": 41,
   "id": "732a3880",
   "metadata": {},
   "outputs": [],
   "source": [
    "stu_acc.set_id(3253)\n",
    "stu_acc.set_name(\"Masum\")\n",
    "stu_acc.set_dept(\"BBA\")"
   ]
  },
  {
   "cell_type": "code",
   "execution_count": null,
   "id": "b31f8eb0",
   "metadata": {},
   "outputs": [],
   "source": [
    "# assignment\n",
    "# total fees 3 quarter, 1st q 40%, 2nd 30%, 3rd 30%, waiver acceptence 1st q, 2 q"
   ]
  }
 ],
 "metadata": {
  "kernelspec": {
   "display_name": "Python 3",
   "language": "python",
   "name": "python3"
  },
  "language_info": {
   "codemirror_mode": {
    "name": "ipython",
    "version": 3
   },
   "file_extension": ".py",
   "mimetype": "text/x-python",
   "name": "python",
   "nbconvert_exporter": "python",
   "pygments_lexer": "ipython3",
   "version": "3.6.9"
  }
 },
 "nbformat": 4,
 "nbformat_minor": 5
}
