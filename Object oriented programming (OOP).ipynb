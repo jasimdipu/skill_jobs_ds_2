{
 "cells": [
  {
   "cell_type": "markdown",
   "id": "e6e6c6d9",
   "metadata": {},
   "source": [
    "### class -> object blue print, object collections -> attr, functions"
   ]
  },
  {
   "cell_type": "code",
   "execution_count": 29,
   "id": "83a95f40",
   "metadata": {},
   "outputs": [],
   "source": [
    "class Student:\n",
    "    \n",
    "    # attributesvariable (Global, local), functions\n",
    "    name = \"\"\n",
    "    age = \"\"\n",
    "    dept = \"\"\n",
    "    \n",
    "    \n",
    "    \n",
    "    def local_example(self):\n",
    "        # local variable\n",
    "        name = \"\"\n",
    "        return self.name\n",
    "    \n",
    "    \n",
    "    def set_student_name(self, name):\n",
    "        def get_student_name(n):\n",
    "            return n\n",
    "        return get_student_name(name)"
   ]
  },
  {
   "cell_type": "code",
   "execution_count": 30,
   "id": "430ae619",
   "metadata": {},
   "outputs": [],
   "source": [
    "# create an object\n",
    "student = Student()"
   ]
  },
  {
   "cell_type": "code",
   "execution_count": 31,
   "id": "56c254a8",
   "metadata": {},
   "outputs": [],
   "source": [
    "student.name = \"Tamim\""
   ]
  },
  {
   "cell_type": "code",
   "execution_count": 32,
   "id": "b0fc3df3",
   "metadata": {},
   "outputs": [
    {
     "data": {
      "text/plain": [
       "'Tamim'"
      ]
     },
     "execution_count": 32,
     "metadata": {},
     "output_type": "execute_result"
    }
   ],
   "source": [
    "student.name"
   ]
  },
  {
   "cell_type": "code",
   "execution_count": 33,
   "id": "82cc52f7",
   "metadata": {},
   "outputs": [
    {
     "data": {
      "text/plain": [
       "'Shahin'"
      ]
     },
     "execution_count": 33,
     "metadata": {},
     "output_type": "execute_result"
    }
   ],
   "source": [
    "student.set_student_name(\"Shahin\")"
   ]
  },
  {
   "cell_type": "code",
   "execution_count": null,
   "id": "20fa3114",
   "metadata": {},
   "outputs": [],
   "source": []
  },
  {
   "cell_type": "code",
   "execution_count": 17,
   "id": "969ed72b",
   "metadata": {},
   "outputs": [],
   "source": [
    "class Student:\n",
    "    # attr -> variable (Global, local)\n",
    "    # encapsualtion - > private __, public, protected _\n",
    "#     __name = \"\"\n",
    "#     __age = \"\"\n",
    "#     __dept = \"\"\n",
    "    \n",
    "    # constructor\n",
    "    def __init__(self, name, age, dept):\n",
    "        self.__name = name\n",
    "        self.__age = age\n",
    "        self.__dept = dept\n",
    "        \n",
    "    def get_name(self):\n",
    "        return self.__name\n",
    "        \n",
    "    def get_age(self):\n",
    "        return self.__age\n",
    "    \n",
    "    def get_dept(self):\n",
    "        return self.__dept\n",
    "    \n",
    "    def set_name(self, name):\n",
    "        self.__name = name\n",
    "        \n",
    "    def set_age(self, age):\n",
    "        self.__age = age\n",
    "    \n",
    "    def set_dept(self, dept):\n",
    "        self.__dept = dept\n",
    "    "
   ]
  },
  {
   "cell_type": "code",
   "execution_count": 18,
   "id": "d2213d8a",
   "metadata": {},
   "outputs": [],
   "source": [
    "student = Student(\"kamal\", 24, \"CSE\")"
   ]
  },
  {
   "cell_type": "code",
   "execution_count": 19,
   "id": "f66ba1e8",
   "metadata": {},
   "outputs": [
    {
     "data": {
      "text/plain": [
       "'kamal'"
      ]
     },
     "execution_count": 19,
     "metadata": {},
     "output_type": "execute_result"
    }
   ],
   "source": [
    "student.get_name()"
   ]
  },
  {
   "cell_type": "code",
   "execution_count": 16,
   "id": "76b81bee",
   "metadata": {},
   "outputs": [
    {
     "data": {
      "text/plain": [
       "('kamal', 24, 'CSE')"
      ]
     },
     "execution_count": 16,
     "metadata": {},
     "output_type": "execute_result"
    }
   ],
   "source": [
    "student.get_name(), student.get_age(), student.get_dept()"
   ]
  },
  {
   "cell_type": "code",
   "execution_count": 20,
   "id": "a3c2c4c3",
   "metadata": {},
   "outputs": [],
   "source": [
    "student.set_name(\"jamal\")"
   ]
  },
  {
   "cell_type": "code",
   "execution_count": 21,
   "id": "b203354b",
   "metadata": {},
   "outputs": [
    {
     "data": {
      "text/plain": [
       "'jamal'"
      ]
     },
     "execution_count": 21,
     "metadata": {},
     "output_type": "execute_result"
    }
   ],
   "source": [
    "student.get_name()"
   ]
  },
  {
   "cell_type": "code",
   "execution_count": null,
   "id": "1fc9004c",
   "metadata": {},
   "outputs": [],
   "source": []
  }
 ],
 "metadata": {
  "kernelspec": {
   "display_name": "Python 3",
   "language": "python",
   "name": "python3"
  },
  "language_info": {
   "codemirror_mode": {
    "name": "ipython",
    "version": 3
   },
   "file_extension": ".py",
   "mimetype": "text/x-python",
   "name": "python",
   "nbconvert_exporter": "python",
   "pygments_lexer": "ipython3",
   "version": "3.8.8"
  }
 },
 "nbformat": 4,
 "nbformat_minor": 5
}
